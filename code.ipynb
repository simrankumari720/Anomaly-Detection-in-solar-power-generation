{
 "cells": [
  {
   "cell_type": "code",
   "execution_count": null,
   "id": "69516c43-2568-4525-a908-e85a6c90ccdc",
   "metadata": {},
   "outputs": [],
   "source": [
    "import pandas as pd\n",
    "import numpy as np\n",
    "import matplotlib.pyplot as plt\n",
    "import seaborn as sns\n",
    "\n",
    "import datetime as dt\n"
   ]
  },
  {
   "cell_type": "code",
   "execution_count": null,
   "id": "bda1aa62-8c7a-4069-ad13-e38197a7afd6",
   "metadata": {},
   "outputs": [],
   "source": [
    "inverter1 = pd.read_excel(r\"C:\\Users\\golu6\\OneDrive\\Documents\\My Data Sources\\inverter1.xlsx\")\n",
    "inverter2 = pd.read_excel(r\"C:\\Users\\golu6\\OneDrive\\Documents\\My Data Sources\\inverter2.xlsx\")\n",
    "inverter3 = pd.read_excel(r\"C:\\Users\\golu6\\OneDrive\\Documents\\My Data Sources\\inverter3.xlsx\")\n",
    "weather = pd.read_excel(r\"C:\\Users\\golu6\\OneDrive\\Documents\\My Data Sources\\weather.xlsx\")"
   ]
  },
  {
   "cell_type": "code",
   "execution_count": null,
   "id": "0079efb5-3e8c-4a44-9a91-6bda193ca8f9",
   "metadata": {},
   "outputs": [],
   "source": [
    "inverter1.head()"
   ]
  },
  {
   "cell_type": "code",
   "execution_count": null,
   "id": "d3772b1d-93e1-46f3-9952-9b0bc8824b9b",
   "metadata": {},
   "outputs": [],
   "source": [
    "inverter2.head()"
   ]
  },
  {
   "cell_type": "code",
   "execution_count": null,
   "id": "042801fd-5366-44d6-a040-45fa1b52a7e7",
   "metadata": {},
   "outputs": [],
   "source": [
    "inverter3.head()"
   ]
  },
  {
   "cell_type": "code",
   "execution_count": null,
   "id": "b6c1c243-86a3-4ea1-b618-726f6b36fc46",
   "metadata": {},
   "outputs": [],
   "source": [
    "weather.head()"
   ]
  },
  {
   "cell_type": "code",
   "execution_count": null,
   "id": "20b6a34e-21b1-4794-b419-93cd736ac1fe",
   "metadata": {},
   "outputs": [],
   "source": [
    "inverter1.isnull().sum()"
   ]
  },
  {
   "cell_type": "code",
   "execution_count": null,
   "id": "56dfe3c1-b669-4cc8-9904-51804cc300fc",
   "metadata": {},
   "outputs": [],
   "source": [
    "inverter2.isnull().sum()"
   ]
  },
  {
   "cell_type": "code",
   "execution_count": null,
   "id": "07c7225a-9548-4817-9061-2460c27efe46",
   "metadata": {},
   "outputs": [],
   "source": [
    "inverter3.isnull().sum()"
   ]
  },
  {
   "cell_type": "code",
   "execution_count": null,
   "id": "02cb1f6e-2dea-404a-b2bd-e2ac64ae2846",
   "metadata": {},
   "outputs": [],
   "source": [
    "weather.isnull().sum()"
   ]
  },
  {
   "cell_type": "code",
   "execution_count": null,
   "id": "b2eecf9a-12c9-45b0-8720-593db79181c0",
   "metadata": {},
   "outputs": [],
   "source": [
    "inverter3.describe"
   ]
  },
  {
   "cell_type": "code",
   "execution_count": null,
   "id": "be40fda6-a681-469e-be71-9e39e02973b0",
   "metadata": {},
   "outputs": [],
   "source": [
    "inverter2.describe"
   ]
  },
  {
   "cell_type": "code",
   "execution_count": null,
   "id": "7b315f5c-3e51-4a4f-b23d-f7a2276d5749",
   "metadata": {},
   "outputs": [],
   "source": [
    "inverter1.describe"
   ]
  },
  {
   "cell_type": "code",
   "execution_count": null,
   "id": "48a402a1-51d2-43f3-bed0-944721fd2233",
   "metadata": {},
   "outputs": [],
   "source": [
    "weather.describe"
   ]
  },
  {
   "cell_type": "code",
   "execution_count": null,
   "id": "4b2e15de-ef14-40ea-a1ca-b13ab0506544",
   "metadata": {},
   "outputs": [],
   "source": [
    "inverter1.shape"
   ]
  },
  {
   "cell_type": "code",
   "execution_count": null,
   "id": "6d2c552c-6ba2-4aa0-bd62-ee2601043b7d",
   "metadata": {},
   "outputs": [],
   "source": [
    "inverter2.shape"
   ]
  },
  {
   "cell_type": "code",
   "execution_count": null,
   "id": "817fec74-2a3a-4d85-ae28-948702b86bf6",
   "metadata": {},
   "outputs": [],
   "source": [
    "inverter3.shape"
   ]
  },
  {
   "cell_type": "code",
   "execution_count": null,
   "id": "56f21588-3fb5-4592-98ed-bf32da70eb7d",
   "metadata": {},
   "outputs": [],
   "source": [
    "weather.shape"
   ]
  },
  {
   "cell_type": "code",
   "execution_count": null,
   "id": "02f27630-dd5b-4c61-8bd4-f7bb1c3d6970",
   "metadata": {},
   "outputs": [],
   "source": [
    "inverter1.describe().T"
   ]
  },
  {
   "cell_type": "code",
   "execution_count": null,
   "id": "953eebb6-a6d7-4e49-a876-0c72ae587ad8",
   "metadata": {},
   "outputs": [],
   "source": [
    "inverter1.duplicated().sum()"
   ]
  },
  {
   "cell_type": "code",
   "execution_count": null,
   "id": "201b9eb9-e7d3-4b76-817b-c342613578dc",
   "metadata": {},
   "outputs": [],
   "source": [
    "weather.describe().T"
   ]
  },
  {
   "cell_type": "code",
   "execution_count": null,
   "id": "0897f645-20c2-4f22-bf1e-f8077bfa9e39",
   "metadata": {},
   "outputs": [],
   "source": [
    "inverter2.duplicated().sum()"
   ]
  },
  {
   "cell_type": "code",
   "execution_count": null,
   "id": "84b892be-5e77-4521-a36c-425428eb1b92",
   "metadata": {},
   "outputs": [],
   "source": [
    "inverter1 = inverter1[inverter1['DATE & TIME'].str.contains(r'\\d{2}-\\d{2}-\\d{2} \\d{2}:\\d{2}:\\d{2}', na=False)]\n",
    "inverter1['DATE & TIME'] = pd.to_datetime(inverter1['DATE & TIME'], format='%d-%m-%y %H:%M:%S')\n"
   ]
  },
  {
   "cell_type": "code",
   "execution_count": null,
   "id": "114d73fb-5b25-4e88-9d02-aaab70d9b862",
   "metadata": {},
   "outputs": [],
   "source": [
    "inverter2 = inverter2[inverter2['DATE & TIME'].str.contains(r'\\d{2}-\\d{2}-\\d{2} \\d{2}:\\d{2}:\\d{2}', na=False)]\n",
    "inverter2['DATE & TIME'] = pd.to_datetime(inverter2['DATE & TIME'], format='%d-%m-%y %H:%M:%S')"
   ]
  },
  {
   "cell_type": "code",
   "execution_count": null,
   "id": "d117297c-88b5-407e-bbef-297e3e1e3150",
   "metadata": {},
   "outputs": [],
   "source": [
    "inverter3 = inverter3[inverter3['DATE & TIME'].str.contains(r'\\d{2}-\\d{2}-\\d{2} \\d{2}:\\d{2}:\\d{2}', na=False)]\n",
    "inverter3['DATE & TIME'] = pd.to_datetime(inverter3['DATE & TIME'], format='%d-%m-%y %H:%M:%S')"
   ]
  },
  {
   "cell_type": "code",
   "execution_count": null,
   "id": "8adc01d9-ffc1-4ad4-b478-5f884a3d7cfb",
   "metadata": {},
   "outputs": [],
   "source": [
    "weather['DATE & TIME'] = pd.to_datetime(weather['DATE & TIME'], format='%d-%m-%y %H:%M:%S')\n"
   ]
  },
  {
   "cell_type": "code",
   "execution_count": null,
   "id": "1d325a1a-d42e-41de-9d7c-75838907b0dd",
   "metadata": {},
   "outputs": [],
   "source": [
    "merged_inverter = pd.merge(inverter1, inverter2, on='DATE & TIME', how='outer')\n",
    "\n",
    "merged_inverter = pd.merge(merged_inverter, inverter3, on='DATE & TIME', how='outer')\n",
    "\n",
    "merged_inverter = merged_inverter.sort_values('DATE & TIME')\n"
   ]
  },
  {
   "cell_type": "code",
   "execution_count": null,
   "id": "0700d93a-29de-4b22-866b-033d72253136",
   "metadata": {},
   "outputs": [],
   "source": [
    "merged_all= weather.merge(merged_inverter, on='DATE & TIME', how='left')"
   ]
  },
  {
   "cell_type": "code",
   "execution_count": null,
   "id": "39b82326-b241-4ac3-882f-b7786dd0fe03",
   "metadata": {},
   "outputs": [],
   "source": [
    "merged_all"
   ]
  },
  {
   "cell_type": "code",
   "execution_count": null,
   "id": "f6f0ded9-e99b-45bd-a4d7-bab6e1c636b0",
   "metadata": {},
   "outputs": [],
   "source": [
    "merged_all.info()"
   ]
  },
  {
   "cell_type": "code",
   "execution_count": null,
   "id": "91012873-eed6-4f93-8307-6f2df2083ec0",
   "metadata": {},
   "outputs": [],
   "source": [
    "merged_all.isnull().sum()"
   ]
  },
  {
   "cell_type": "code",
   "execution_count": null,
   "id": "a9333433-2d81-4135-88f9-a8872176eac4",
   "metadata": {},
   "outputs": [],
   "source": [
    "merged_all.columns = merged_all.columns.str.strip()\n",
    "\n",
    "columns_to_fill = [ \n",
    "    \"DC CURRENT_x\", \"DC VOLTAGE_x\", \"DC POWER_x\", \"TEMPERATURE_x\",\n",
    "    \"DC CURRENT_y\", \"DC VOLTAGE_y\", \"DC POWER_y\", \"TEMPERATURE_y\",\n",
    "    \"DC CURRENT\", \"DC VOLTAGE\", \"DC POWER\", \"TEMPERATURE\"\n",
    "]\n",
    "\n",
    "# Fill NaN values safely\n",
    "for col in columns_to_fill:\n",
    "    if col in merged_all.columns:  # Make sure column exists\n",
    "        if merged_all[col].notna().any():\n",
    "            merged_all[col] = merged_all[col].fillna(merged_all[col].median()).infer_objects(copy=False)\n",
    "        else:\n",
    "            merged_all[col] = merged_all[col].fillna(0)\n"
   ]
  },
  {
   "cell_type": "code",
   "execution_count": null,
   "id": "f0be5186-dddf-414f-a4af-33b583fff389",
   "metadata": {},
   "outputs": [],
   "source": [
    "merged_all"
   ]
  },
  {
   "cell_type": "code",
   "execution_count": null,
   "id": "66c90805-6561-49ec-81a5-3b4a4abefd05",
   "metadata": {},
   "outputs": [],
   "source": [
    "import seaborn as sns\n",
    "import matplotlib.pyplot as plt\n"
   ]
  },
  {
   "cell_type": "code",
   "execution_count": null,
   "id": "f87befb1-31db-4881-a724-2b6b20adb2e8",
   "metadata": {},
   "outputs": [],
   "source": [
    "plt.figure(figsize=(8, 5))\n",
    "plt.scatter(merged_all['DC POWER_x'], merged_all['DC CURRENT_y'])\n",
    "plt.title('DC vs DC CURRENT_y')\n",
    "plt.xlabel('DC POWER_x (kW)')\n",
    "plt.ylabel('DC CURRENT_y(kW)')\n",
    "plt.grid(True)\n",
    "plt.show()\n"
   ]
  },
  {
   "cell_type": "code",
   "execution_count": null,
   "id": "1a9889bb-03ba-4222-9eb3-5152a3ca4970",
   "metadata": {},
   "outputs": [],
   "source": [
    "Q1 = merged_all['DC POWER_x'].quantile(0.25)\n",
    "Q3 = merged_all['DC POWER_x'].quantile(0.75)\n",
    "IQR = Q3 - Q1\n",
    "lower_bound=Q1-1.5*IQR\n",
    "upper_bound=Q3+1.5*IQR\n",
    "\n",
    "outliers = merged_all[merged_all['DC POWER_x'] > upper_bound]\n",
    "\n",
    "print(f\"Upper Bound: {upper_bound}\")\n",
    "print(f\"Outliers: \\n{outliers}\")"
   ]
  },
  {
   "cell_type": "code",
   "execution_count": null,
   "id": "91acebd6-fb94-49d7-9085-4fa58c52ce24",
   "metadata": {},
   "outputs": [],
   "source": [
    "#HISTOGRAM FOR UNDERSTAND DISTRIBUTION\n",
    "for i in merged_all.select_dtypes(include=\"number\").columns:\n",
    "    sns.histplot(data=merged_all , x=i)\n",
    "    plt.show()"
   ]
  },
  {
   "cell_type": "code",
   "execution_count": null,
   "id": "d702c6fe-696c-4c1f-83dd-203974c83b1e",
   "metadata": {},
   "outputs": [],
   "source": [
    "plt.figure(figsize=(14, 6))\n",
    "plt.plot(inverter1['DATE & TIME'], inverter1['DC POWER'], color='blue', linewidth=1)\n",
    "plt.title('DC Power Output Over Time - inverter1')\n",
    "plt.xlabel('Time')\n",
    "plt.ylabel('DC Power (kW)')\n",
    "plt.grid(True)\n",
    "plt.tight_layout()\n",
    "plt.show()"
   ]
  },
  {
   "cell_type": "code",
   "execution_count": null,
   "id": "87458a92-eca1-4ae4-b97c-1d1a361db61a",
   "metadata": {},
   "outputs": [],
   "source": [
    "#BOXPLOT FOR FINDING OUTLIERS\n",
    "for i in merged_all.select_dtypes(include=\"number\").columns:\n",
    "    sns.boxplot(data=merged_all , x=i)\n",
    "    plt.show()"
   ]
  },
  {
   "cell_type": "code",
   "execution_count": null,
   "id": "cba16580-edb1-4cca-9034-ad6369120fd5",
   "metadata": {},
   "outputs": [],
   "source": [
    "# FIRST MOMENT BUSINESS DECISION\n",
    "merged_all.mean()"
   ]
  },
  {
   "cell_type": "code",
   "execution_count": null,
   "id": "fd2ddcbe-a21f-4424-8569-d192ab3c38ed",
   "metadata": {},
   "outputs": [],
   "source": [
    "merged_all.median()"
   ]
  },
  {
   "cell_type": "code",
   "execution_count": null,
   "id": "3110d867-7c51-4dce-81e6-3e7b15155ace",
   "metadata": {},
   "outputs": [],
   "source": [
    "merged_all.mode()"
   ]
  },
  {
   "cell_type": "code",
   "execution_count": null,
   "id": "5a20887b-a70c-43f1-81fa-aee7f5b44daf",
   "metadata": {},
   "outputs": [],
   "source": [
    "merged_all.to_excel(\"EDA.xlsx\" , index=f)"
   ]
  }
 ],
 "metadata": {
  "kernelspec": {
   "display_name": "Python 3 (ipykernel)",
   "language": "python",
   "name": "python3"
  },
  "language_info": {
   "codemirror_mode": {
    "name": "ipython",
    "version": 3
   },
   "file_extension": ".py",
   "mimetype": "text/x-python",
   "name": "python",
   "nbconvert_exporter": "python",
   "pygments_lexer": "ipython3",
   "version": "3.12.7"
  }
 },
 "nbformat": 4,
 "nbformat_minor": 5
}
